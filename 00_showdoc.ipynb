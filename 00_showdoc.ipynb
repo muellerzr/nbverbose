{
 "cells": [
  {
   "cell_type": "code",
   "execution_count": null,
   "metadata": {},
   "outputs": [
    {
     "name": "stdout",
     "output_type": "stream",
     "text": [
      "The history saving thread hit an unexpected error (DatabaseError('database disk image is malformed')).History will not be written to the database.\n"
     ]
    }
   ],
   "source": [
    "# default_exp showdoc"
   ]
  },
  {
   "cell_type": "markdown",
   "metadata": {},
   "source": [
    "# Showing Verbose Documentation\n",
    "\n",
    "> Showing input documentation with nbdev"
   ]
  },
  {
   "cell_type": "code",
   "execution_count": null,
   "metadata": {},
   "outputs": [],
   "source": [
    "#hide\n",
    "from nbverbose.showdoc import *"
   ]
  },
  {
   "cell_type": "code",
   "execution_count": null,
   "metadata": {},
   "outputs": [],
   "source": [
    "#export\n",
    "from nbdev.showdoc import (\n",
    "    _format_enum_doc, _format_cls_doc, \n",
    "    _format_func_doc, add_doc_links,\n",
    "    get_source_link, qual_name, is_enum,\n",
    "    get_doc_link, md2html\n",
    ")\n",
    "\n",
    "import re\n",
    "\n",
    "import inspect\n",
    "\n",
    "from fastcore.foundation import Config\n",
    "from fastcore.imports import IN_COLAB\n",
    "from fastcore.utils import IN_NOTEBOOK\n",
    "from fastcore.docments import docments\n",
    "\n",
    "if IN_NOTEBOOK:\n",
    "    from IPython.display import Markdown,display\n",
    "    from IPython.core import page"
   ]
  },
  {
   "cell_type": "code",
   "execution_count": null,
   "metadata": {},
   "outputs": [],
   "source": [
    "#export\n",
    "def _format_args(\n",
    "    elt, # A function or class\n",
    ") -> str: # A formatted docstring for arguments\n",
    "    \"Generates a formatted argument string\"\n",
    "    ment_dict = docments(elt, full=True)\n",
    "    ret = None\n",
    "    if \"self\" in ment_dict.keys(): ment_dict.pop(\"self\")\n",
    "    if \"return\" in ment_dict.keys(): \n",
    "        ret = ment_dict[\"return\"]\n",
    "        ment_dict.pop(\"return\")\n",
    "    if len(ment_dict.keys()) > 0: \n",
    "        arg_string = '**Parameters:**\\n\\n'\n",
    "        for key, item in ment_dict.items():\n",
    "            is_required=False\n",
    "            if key == 'return': continue\n",
    "            if item['default'] != inspect._empty:\n",
    "                is_required = True\n",
    "            arg_string += f\"\\n - **`{key}`** : *`{item['anno']}`*\"\n",
    "            if is_required: arg_string += \", *optional*\"\n",
    "            arg_string += f\"\\n          {item['docment']}\\n\\n\"\n",
    "    if ret is not None:\n",
    "        ret = ment_dict[\"return\"]\n",
    "        if not ret['anno'] == inspect._empty:\n",
    "            if \"**Returns**\" not in arg_string:\n",
    "                arg_string += \"\\n\\n**Returns**:\\n\\t\"\n",
    "            arg_string += f\"\\n * *`{ment_dict['return']['anno']}`*\"\n",
    "        if \"docment\" in ret.keys():\n",
    "            if ret['docment'] is not None:\n",
    "                if \"**Returns**\" not in arg_string:\n",
    "                    arg_string += \"\\n\\n**Returns**:\\n\\t\"\n",
    "                arg_string += f\"\\n          {ret['docment']}\\n\\n\"\n",
    "    return arg_string"
   ]
  },
  {
   "cell_type": "code",
   "execution_count": null,
   "metadata": {},
   "outputs": [],
   "source": [
    "#export\n",
    "def show_doc(\n",
    "    elt, # Some function or class to pull up the documentation for\n",
    "    doc_string:bool=True, # Whether to display the doc string\n",
    "    name:str=None, # An optional name to use instead\n",
    "    title_level:int=None, # The heading level\n",
    "    disp:bool=True, # Whether to display the Markdown\n",
    "    default_cls_level:int=2 # If elt is a class, a heading level to use for it\n",
    ") -> str: # The documentation as a string\n",
    "    \"Show documentation for element `elt` with potential verbose inputs. Supported types: class, function, and enum.\"\n",
    "    elt = getattr(elt, '__func__', elt)\n",
    "    qname = name or qual_name(elt)\n",
    "    if inspect.isclass(elt):\n",
    "        if is_enum(elt): name,args = _format_enum_doc(elt, qname)\n",
    "        else:            name,args = _format_cls_doc (elt, qname)\n",
    "    elif callable(elt):  name,args = _format_func_doc(elt, qname)\n",
    "    else:                name,args = f\"<code>{qname}</code>\", ''\n",
    "    link = get_source_link(elt)\n",
    "    source_link = f'<a href=\"{link}\" class=\"source_link\" style=\"float:right\">[source]</a>'\n",
    "    title_level = title_level or (default_cls_level if inspect.isclass(elt) else 4)\n",
    "    doc =  f'<h{title_level} id=\"{qname}\" class=\"doc_header\">{name}{source_link}</h{title_level}>'\n",
    "    doc += f'\\n\\n> {args}\\n\\n' if len(args) > 0 else '\\n\\n'\n",
    "    if doc_string and inspect.getdoc(elt):\n",
    "        s = inspect.getdoc(elt)\n",
    "        # show_doc is used by doc so should not rely on Config\n",
    "        try: monospace = (Config().get('monospace_docstrings') == 'True')\n",
    "        except: monospace = False\n",
    "        # doc links don't work inside markdown pre/code blocks\n",
    "        s = f'```\\n{s}\\n```' if monospace else add_doc_links(s, elt)\n",
    "        doc += s\n",
    "    if len(args) > 0: doc += f\"\\n\\n{_format_args(elt)}\"\n",
    "    if disp: display(Markdown(doc))\n",
    "    else: return doc"
   ]
  },
  {
   "cell_type": "code",
   "execution_count": null,
   "metadata": {},
   "outputs": [],
   "source": [
    "#export\n",
    "def doc(\n",
    "    elt, # Some function or class to pull up the documentation for\n",
    "):\n",
    "    \"Show `show_doc` info in preview window when used in a notebook\"\n",
    "    md = show_doc(elt, disp=False)\n",
    "    doc_link = get_doc_link(elt)\n",
    "    if doc_link is not None:\n",
    "        md += f'\\n\\n<a href=\"{doc_link}\" target=\"_blank\" rel=\"noreferrer noopener\">Show in docs</a>'\n",
    "    output = md2html(md)\n",
    "    if IN_COLAB: get_ipython().run_cell_magic(u'html', u'', output)\n",
    "    else:\n",
    "        try: page.page({'text/html': output})\n",
    "        except: display(Markdown(md))"
   ]
  },
  {
   "cell_type": "code",
   "execution_count": null,
   "metadata": {},
   "outputs": [],
   "source": []
  }
 ],
 "metadata": {
  "kernelspec": {
   "display_name": "Python 3",
   "language": "python",
   "name": "python3"
  }
 },
 "nbformat": 4,
 "nbformat_minor": 2
}
