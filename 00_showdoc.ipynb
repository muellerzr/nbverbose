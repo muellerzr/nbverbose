{
 "cells": [
  {
   "cell_type": "code",
   "execution_count": 1,
   "metadata": {},
   "outputs": [],
   "source": [
    "# default_exp showdoc"
   ]
  },
  {
   "cell_type": "markdown",
   "metadata": {},
   "source": [
    "# Showing Verbose Documentation\n",
    "\n",
    "> Showing input documentation with nbdev"
   ]
  },
  {
   "cell_type": "code",
   "execution_count": 2,
   "metadata": {},
   "outputs": [],
   "source": [
    "#hide\n",
    "from nbverbose.showdoc import *"
   ]
  },
  {
   "cell_type": "code",
   "execution_count": 112,
   "metadata": {},
   "outputs": [],
   "source": [
    "#export\n",
    "from nbdev.showdoc import (\n",
    "    _format_enum_doc, _format_cls_doc, \n",
    "    _format_func_doc, add_doc_links,\n",
    "    get_source_link, qual_name, is_enum,\n",
    "    get_doc_link, md2html\n",
    ")\n",
    "\n",
    "import re\n",
    "\n",
    "import inspect\n",
    "\n",
    "from fastcore.foundation import Config\n",
    "from fastcore.imports import IN_COLAB\n",
    "from fastcore.utils import IN_NOTEBOOK\n",
    "from fastcore.docments import docments\n",
    "\n",
    "if IN_NOTEBOOK:\n",
    "    from IPython.display import Markdown,display\n",
    "    from IPython.core import page"
   ]
  },
  {
   "cell_type": "code",
   "execution_count": 55,
   "metadata": {},
   "outputs": [],
   "source": [
    "#export\n",
    "def _format_args(\n",
    "    elt, # A function or class\n",
    ") -> str: # A formatted docstring for arguments\n",
    "    \"Generates a formatted argument string\"\n",
    "    ment_dict = docments(elt, full=True)\n",
    "    ret = None\n",
    "    arg_string = \"\"\n",
    "    if \"self\" in ment_dict.keys(): ment_dict.pop(\"self\")\n",
    "    if \"cls\" in ment_dict.keys(): ment_dict.pop(\"cls\")\n",
    "    if \"return\" in ment_dict.keys(): \n",
    "        ret = ment_dict[\"return\"]\n",
    "        ment_dict.pop(\"return\")\n",
    "    if len(ment_dict.keys()) > 0: \n",
    "        arg_string += '|**Parameters:**|Type|Default|Details|\\n|---|---|---|---|\\n'\n",
    "        for key, item in ment_dict.items():\n",
    "            is_required=True\n",
    "            if key == 'return': continue\n",
    "            if item['default'] != inspect._empty:\n",
    "                is_required = False\n",
    "            arg_string += f\"|**`{key}`**|\"\n",
    "            arg_string += \"*None Specified*|\" if item['anno'] == inspect._empty else f\"`{item['anno']}`|\"\n",
    "            arg_string += \"*No Default*|\" if is_required else f\"`{str(item['default'])}`|\"\n",
    "            if item['docment'] is not None:\n",
    "                arg_string += f\"{item['docment']}|\"\n",
    "            arg_string += '\\n'\n",
    "    return_string = \"\"\n",
    "    if ret is not None:\n",
    "        return_string += \"|**Return Type**|Details|\\n|-|-|\\n|\"\n",
    "        if not ret['anno'] == inspect._empty:\n",
    "            return_string += f\"`{ret['anno']}`|\"\n",
    "        if \"docment\" in ret.keys():\n",
    "            if ret['docment'] is not None:\n",
    "                return_string += f\"{ret['docment']}|\"\n",
    "    return arg_string + \"\\n\\n\" + return_string"
   ]
  },
  {
   "cell_type": "code",
   "execution_count": 56,
   "metadata": {},
   "outputs": [],
   "source": [
    "#export\n",
    "def show_doc(\n",
    "    elt, # Some function or class to pull up the documentation for\n",
    "    doc_string:bool=True, # Whether to display the doc string\n",
    "    name:str=None, # An optional name to use instead\n",
    "    title_level:int=None, # The heading level\n",
    "    disp:bool=True, # Whether to display the Markdown\n",
    "    default_cls_level:int=2 # If elt is a class, a heading level to use for it\n",
    ") -> str: # The documentation as a string\n",
    "    \"Show documentation for element `elt` with potential verbose inputs. Supported types: class, function, and enum.\"\n",
    "    elt = getattr(elt, '__func__', elt)\n",
    "    qname = name or qual_name(elt)\n",
    "    if inspect.isclass(elt):\n",
    "        if is_enum(elt): name,args = _format_enum_doc(elt, qname)\n",
    "        else:            name,args = _format_cls_doc (elt, qname)\n",
    "    elif callable(elt):  name,args = _format_func_doc(elt, qname)\n",
    "    else:                name,args = f\"<code>{qname}</code>\", ''\n",
    "    link = get_source_link(elt)\n",
    "    source_link = f'<a href=\"{link}\" class=\"source_link\" style=\"float:right\">[source]</a>'\n",
    "    title_level = title_level or (default_cls_level if inspect.isclass(elt) else 4)\n",
    "    doc =  f'<h{title_level} id=\"{qname}\" class=\"doc_header\">{name}{source_link}</h{title_level}>'\n",
    "    doc += f'\\n\\n> {args}\\n\\n' if len(args) > 0 else '\\n\\n'\n",
    "    if doc_string and inspect.getdoc(elt):\n",
    "        s = inspect.getdoc(elt)\n",
    "        # show_doc is used by doc so should not rely on Config\n",
    "        try: monospace = (Config().get('monospace_docstrings') == 'True')\n",
    "        except: monospace = False\n",
    "        # doc links don't work inside markdown pre/code blocks\n",
    "        s = f'```\\n{s}\\n```' if monospace else add_doc_links(s, elt)\n",
    "        doc += s\n",
    "    if len(args) > 0:\n",
    "        try:\n",
    "            doc += f\"\\n\\n{_format_args(elt)}\"\n",
    "        except:\n",
    "            pass\n",
    "    if disp: display(Markdown(doc))\n",
    "    else: return doc"
   ]
  },
  {
   "cell_type": "code",
   "execution_count": 129,
   "metadata": {},
   "outputs": [],
   "source": [
    "#export\n",
    "_TABLE_CSS = \"\"\"<style>\n",
    "    table { border-collapse: collapse; border:thin solid #dddddd; margin: 25px 0px; ; }\n",
    "    table tr:first-child { background-color: #FFF}\n",
    "    table thead th { background-color: #eee; color: #000; text-align: center;}\n",
    "    tr, th, td { border: 1px solid #ccc; border-width: 1px 0 0 1px; border-collapse: collapse;\n",
    "    padding: 5px; }\n",
    "    tr:nth-child(even) {background: #eee;}</style>\"\"\""
   ]
  },
  {
   "cell_type": "code",
   "execution_count": 142,
   "metadata": {},
   "outputs": [],
   "source": [
    "#export\n",
    "def doc(\n",
    "    elt, # Some function or class to pull up the documentation for\n",
    "):\n",
    "    \"Show `show_doc` info in preview window when used in a notebook\"\n",
    "    md = show_doc(elt, disp=False)\n",
    "    doc_link = get_doc_link(elt)\n",
    "    if doc_link is not None:\n",
    "        md += f'\\n\\n<a href=\"{doc_link}\" target=\"_blank\" rel=\"noreferrer noopener\">Show in docs</a>'\n",
    "    output = md2html(md)\n",
    "    if IN_COLAB: get_ipython().run_cell_magic(u'html', u'', output + _TABLE_CSS)\n",
    "    else:\n",
    "        try: page.page({'text/html': output + _TABLE_CSS})\n",
    "        except: display(Markdown(md))"
   ]
  }
 ],
 "metadata": {
  "kernelspec": {
   "display_name": "Python 3 (ipykernel)",
   "language": "python",
   "name": "python3"
  },
  "language_info": {
   "codemirror_mode": {
    "name": "ipython",
    "version": 3
   },
   "file_extension": ".py",
   "mimetype": "text/x-python",
   "name": "python",
   "nbconvert_exporter": "python",
   "pygments_lexer": "ipython3",
   "version": "3.8.10"
  }
 },
 "nbformat": 4,
 "nbformat_minor": 2
}
