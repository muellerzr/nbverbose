{
 "cells": [
  {
   "cell_type": "code",
   "execution_count": null,
   "metadata": {},
   "outputs": [],
   "source": [
    "# default_exp showdoc"
   ]
  },
  {
   "cell_type": "markdown",
   "metadata": {},
   "source": [
    "# Showing Verbose Documentation\n",
    "\n",
    "> Showing input documentation with nbdev"
   ]
  },
  {
   "cell_type": "code",
   "execution_count": null,
   "metadata": {},
   "outputs": [],
   "source": [
    "#hide\n",
    "from nbverbose.showdoc import *"
   ]
  },
  {
   "cell_type": "code",
   "execution_count": null,
   "metadata": {},
   "outputs": [],
   "source": [
    "#export\n",
    "from nbdev.showdoc import (\n",
    "    _format_enum_doc, _format_cls_doc, \n",
    "    _format_func_doc, add_doc_links,\n",
    "    get_source_link, qual_name, is_enum,\n",
    "    get_doc_link, md2html\n",
    ")\n",
    "\n",
    "import re\n",
    "\n",
    "import inspect\n",
    "\n",
    "from fastcore.foundation import Config\n",
    "from fastcore.imports import IN_COLAB\n",
    "from fastcore.utils import IN_NOTEBOOK\n",
    "\n",
    "if IN_NOTEBOOK:\n",
    "    from IPython.display import Markdown,display\n",
    "    from IPython.core import page"
   ]
  },
  {
   "cell_type": "code",
   "execution_count": null,
   "metadata": {},
   "outputs": [],
   "source": [
    "#export\n",
    "def _format_args(\n",
    "    func:callable # Some callable function or class\n",
    "):\n",
    "    \"Generate a doc string for `func`'s arguments\"\n",
    "    _pat = r'\\((?P<args>.*)\\)'\n",
    "    try:\n",
    "        source = inspect.getsource(func)\n",
    "        arg_list = re.findall(_pat, source, flags=re.DOTALL)[0].split('\\n')\n",
    "        spec = inspect.getfullargspec(func)\n",
    "        gt_spec = []\n",
    "        for arg in spec.args: gt_spec.append(arg)\n",
    "        if spec.varkw is not None: gt_spec.append(f'**{spec.varkw}')\n",
    "        argstring = '**Function Arguments**:\\n'\n",
    "        has_arg = False\n",
    "        for arg in arg_list:\n",
    "            if len(arg.split('#')) > 1:\n",
    "                # Contains argument documentation\n",
    "                arg = arg.lstrip()\n",
    "                if len(arg.split(':')) > 1:\n",
    "                    arg_nm, extra = arg.split(':')\n",
    "                    if arg_nm not in gt_spec: continue\n",
    "                    else: has_arg = True\n",
    "                    typ, arg_str = extra.split('#')\n",
    "                    typ = typ.rstrip()\n",
    "                    arg_str = arg_str.lstrip()\n",
    "                    if '=' in typ: typ = typ.split('=')[0]\n",
    "                    if typ.endswith(','): typ = typ[:-1]\n",
    "                    typ_str = ''\n",
    "                    if not typ[0].isalnum() and not typ[-1].isalnum():\n",
    "                        typ = typ[1:-1]\n",
    "                    typ_str = typ\n",
    "                    argstring += f'* `{arg_nm}` (`{typ_str}`): {arg_str}\\n'\n",
    "                else:\n",
    "                    # We don't have a type declaration\n",
    "                    arg_nm, arg_str = arg.split('#')\n",
    "                    arg_nm = arg_nm.rstrip()\n",
    "                    arg_str = arg_str.lstrip()\n",
    "                    if arg_nm.endswith(','): arg_nm = arg_nm[:-1]\n",
    "                    if '=' in arg_nm: arg_nm = arg_nm.split('=')[0]\n",
    "                    if arg_nm not in gt_spec: continue\n",
    "                    else: has_arg = True\n",
    "                    argstring += f'* `{arg_nm}`: {arg_str}\\n'\n",
    "        if has_arg: return argstring\n",
    "        else: return ''\n",
    "    except: return ''"
   ]
  },
  {
   "cell_type": "code",
   "execution_count": null,
   "metadata": {},
   "outputs": [],
   "source": [
    "#export\n",
    "def show_doc(\n",
    "    elt, # Some function or class to pull up the documentation for\n",
    "    doc_string:bool=True, # Whether to display the doc string\n",
    "    name:str=None, # An optional name to use instead\n",
    "    title_level:int=None, # The heading level\n",
    "    disp:bool=True, # Whether to display the Markdown\n",
    "    default_cls_level:int=2 # If elt is a class, a heading level to use for it\n",
    "):\n",
    "    \"Show documentation for element `elt` with potential verbose inputs. Supported types: class, function, and enum.\"\n",
    "    elt = getattr(elt, '__func__', elt)\n",
    "    qname = name or qual_name(elt)\n",
    "    if inspect.isclass(elt):\n",
    "        if is_enum(elt): name,args = _format_enum_doc(elt, qname)\n",
    "        else:            name,args = _format_cls_doc (elt, qname)\n",
    "    elif callable(elt):  name,args = _format_func_doc(elt, qname)\n",
    "    else:                name,args = f\"<code>{qname}</code>\", ''\n",
    "    link = get_source_link(elt)\n",
    "    source_link = f'<a href=\"{link}\" class=\"source_link\" style=\"float:right\">[source]</a>'\n",
    "    title_level = title_level or (default_cls_level if inspect.isclass(elt) else 4)\n",
    "    doc =  f'<h{title_level} id=\"{qname}\" class=\"doc_header\">{name}{source_link}</h{title_level}>'\n",
    "    doc += f'\\n\\n> {args}\\n\\n' if len(args) > 0 else '\\n\\n'\n",
    "    if doc_string and inspect.getdoc(elt):\n",
    "        s = inspect.getdoc(elt)\n",
    "        # show_doc is used by doc so should not rely on Config\n",
    "        try: monospace = (Config().get('monospace_docstrings') == 'True')\n",
    "        except: monospace = False\n",
    "        # doc links don't work inside markdown pre/code blocks\n",
    "        s = f'```\\n{s}\\n```' if monospace else add_doc_links(s, elt)\n",
    "        doc += s\n",
    "    if len(args) > 0: doc += f'\\n\\n{_format_args(elt)}'\n",
    "    if disp: display(Markdown(doc))\n",
    "    else: return doc"
   ]
  },
  {
   "cell_type": "code",
   "execution_count": null,
   "metadata": {},
   "outputs": [
    {
     "data": {
      "text/markdown": [
       "<h4 id=\"show_doc\" class=\"doc_header\"><code>show_doc</code><a href=\"__main__.py#L2\" class=\"source_link\" style=\"float:right\">[source]</a></h4>\n",
       "\n",
       "> <code>show_doc</code>(**`elt`**, **`doc_string`**:`bool`=*`True`*, **`name`**:`str`=*`None`*, **`title_level`**:`int`=*`None`*, **`disp`**:`bool`=*`True`*, **`default_cls_level`**:`int`=*`2`*)\n",
       "\n",
       "Show documentation for element `elt` with potential verbose inputs. Supported types: class, function, and enum.\n",
       "\n",
       "**Function Arguments**:\n",
       "* `elt`: Some function or class to pull up the documentation for\n",
       "* `doc_string` (`bool`): Whether to display the doc string\n",
       "* `name` (`str`): An optional name to use instead\n",
       "* `title_level` (`int`): The heading level\n",
       "* `disp` (`bool`): Whether to display the Markdown\n",
       "* `default_cls_level` (`int`): If elt is a class, a heading level to use for it\n"
      ],
      "text/plain": [
       "<IPython.core.display.Markdown object>"
      ]
     },
     "metadata": {},
     "output_type": "display_data"
    }
   ],
   "source": [
    "show_doc(show_doc)"
   ]
  },
  {
   "cell_type": "code",
   "execution_count": null,
   "metadata": {},
   "outputs": [],
   "source": [
    "#export\n",
    "def doc(\n",
    "    elt, # Some function or class to pull up the documentation for\n",
    "):\n",
    "    \"Show `show_doc` info in preview window when used in a notebook\"\n",
    "    md = show_doc(elt, disp=False)\n",
    "    doc_link = get_doc_link(elt)\n",
    "    if doc_link is not None:\n",
    "        md += f'\\n\\n<a href=\"{doc_link}\" target=\"_blank\" rel=\"noreferrer noopener\">Show in docs</a>'\n",
    "    output = md2html(md)\n",
    "    if IN_COLAB: get_ipython().run_cell_magic(u'html', u'', output)\n",
    "    else:\n",
    "        try: page.page({'text/html': output})\n",
    "        except: display(Markdown(md))"
   ]
  }
 ],
 "metadata": {
  "kernelspec": {
   "display_name": "Python 3",
   "language": "python",
   "name": "python3"
  }
 },
 "nbformat": 4,
 "nbformat_minor": 2
}
