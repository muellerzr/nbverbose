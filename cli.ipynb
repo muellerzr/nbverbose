{
 "cells": [
  {
   "cell_type": "code",
   "execution_count": null,
   "metadata": {},
   "outputs": [],
   "source": [
    "#default_exp cli"
   ]
  },
  {
   "cell_type": "markdown",
   "metadata": {},
   "source": [
    "# Command Line Interface\n",
    "> Overriding `nbdev_build_docs` with our own"
   ]
  },
  {
   "cell_type": "code",
   "execution_count": null,
   "metadata": {},
   "outputs": [],
   "source": [
    "#hide\n",
    "from nbverbose.showdoc import *"
   ]
  },
  {
   "cell_type": "code",
   "execution_count": null,
   "metadata": {},
   "outputs": [],
   "source": [
    "#export\n",
    "import nbformat\n",
    "from nbconvert.exporters.html import HTMLExporter\n",
    "\n",
    "from functools import partial\n",
    "import time, random, os, sys\n",
    "\n",
    "from fastcore.basics import compose\n",
    "from fastcore.foundation import Config\n",
    "from fastcore.parallel import parallel\n",
    "from fastcore.script import call_parse, Param, bool_arg\n",
    "from fastcore.xtras import Path\n",
    "\n",
    "from nbdev.imports import get_config\n",
    "from nbdev.export import read_nb, nbglob, find_default_export\n",
    "from nbdev.export2html import (\n",
    "    make_sidebar, make_readme, \n",
    "    _gather_export_mods, ExecuteShowDocPreprocessor,\n",
    "    ExecutePreprocessor, get_metadata, find_default_level,\n",
    "    process_cells, add_show_docs, copy_images, process_cell,\n",
    "    treat_backticks, execute_nb, clean_exports, nbdev_exporter,\n",
    "    _nb2htmlfname, \n",
    ")"
   ]
  },
  {
   "cell_type": "code",
   "execution_count": null,
   "metadata": {},
   "outputs": [],
   "source": [
    "#export\n",
    "def _import_show_doc_cell(mods=None):\n",
    "    \"Add an import show_doc cell.\"\n",
    "    source = f\"from nbverbose.showdoc import show_doc\"\n",
    "    if mods is not None:\n",
    "        for mod in mods: source += f\"\\nfrom {get_config().lib_name}.{mod} import *\"\n",
    "    return {'cell_type': 'code',\n",
    "            'execution_count': None,\n",
    "            'metadata': {'hide_input': True},\n",
    "            'outputs': [],\n",
    "            'source': source}"
   ]
  },
  {
   "cell_type": "code",
   "execution_count": null,
   "metadata": {},
   "outputs": [],
   "source": [
    "#export\n",
    "def execute_nb(nb, mod=None, metadata=None, show_doc_only=True):\n",
    "    \"Execute `nb` (or only the `show_doc` cells) with `metadata`\"\n",
    "    mods = ([] if mod is None else [mod]) + _gather_export_mods(nb['cells'])\n",
    "    nb['cells'].insert(0, _import_show_doc_cell(mods))\n",
    "    ep_cls = ExecuteShowDocPreprocessor if show_doc_only else ExecutePreprocessor\n",
    "    ep = ep_cls(timeout=600, kernel_name='python3')\n",
    "    metadata = metadata or {}\n",
    "    pnb = nbformat.from_dict(nb)\n",
    "    ep.preprocess(pnb, metadata)\n",
    "    return pnb"
   ]
  },
  {
   "cell_type": "code",
   "execution_count": null,
   "metadata": {},
   "outputs": [],
   "source": [
    "#export\n",
    "def convert_nb(fname, cls=HTMLExporter, template_file=None, exporter=None, dest=None, execute=True):\n",
    "    \"Convert a notebook `fname` to html file in `dest_path`.\"\n",
    "    fname = Path(fname).absolute()\n",
    "    nb = read_nb(fname)\n",
    "    meta_jekyll = get_metadata(nb['cells'])\n",
    "    meta_jekyll['nb_path'] = str(fname.relative_to(get_config().path(\"lib_path\").parent))\n",
    "    cls_lvl = find_default_level(nb['cells'])\n",
    "    mod = find_default_export(nb['cells'])\n",
    "    nb['cells'] = compose(*process_cells,partial(add_show_docs, cls_lvl=cls_lvl))(nb['cells'])\n",
    "    _func = compose(partial(copy_images, fname=fname, dest=get_config().path(\"doc_path\")), *process_cell, treat_backticks)\n",
    "    nb['cells'] = [_func(c) for c in nb['cells']]\n",
    "    if execute: nb = execute_nb(nb, mod=mod)\n",
    "    nb['cells'] = [clean_exports(c) for c in nb['cells']]\n",
    "    if exporter is None: exporter = nbdev_exporter(cls=cls, template_file=template_file)\n",
    "    with open(_nb2htmlfname(fname, dest=dest),'w') as f:\n",
    "        f.write(exporter.from_notebook_node(nb, resources=meta_jekyll)[0])"
   ]
  },
  {
   "cell_type": "code",
   "execution_count": null,
   "metadata": {},
   "outputs": [],
   "source": [
    "#export\n",
    "def _notebook2html(fname, cls=HTMLExporter, template_file=None, exporter=None, dest=None, execute=True):\n",
    "    time.sleep(random.random())\n",
    "    print(f\"converting: {fname}\")\n",
    "    try:\n",
    "        convert_nb(fname, cls=cls, template_file=template_file, exporter=exporter, dest=dest, execute=execute)\n",
    "        return True\n",
    "    except Exception as e:\n",
    "        print(e)\n",
    "        return False"
   ]
  },
  {
   "cell_type": "code",
   "execution_count": null,
   "metadata": {},
   "outputs": [],
   "source": [
    "#export\n",
    "def notebook2html(fname=None, force_all=False, n_workers=None, cls=HTMLExporter, template_file=None,\n",
    "                  exporter=None, dest=None, pause=0, execute=True):\n",
    "    \"Convert all notebooks matching `fname` to html files\"\n",
    "    files = nbglob(fname)\n",
    "    if len(files)==1:\n",
    "        force_all = True\n",
    "        if n_workers is None: n_workers=0\n",
    "    if not force_all:\n",
    "        # only rebuild modified files\n",
    "        files,_files = [],files.copy()\n",
    "        for fname in _files:\n",
    "            fname_out = _nb2htmlfname(Path(fname).absolute(), dest=dest)\n",
    "            if not fname_out.exists() or os.path.getmtime(fname) >= os.path.getmtime(fname_out):\n",
    "                files.append(fname)\n",
    "    if len(files)==0: print(\"No notebooks were modified\")\n",
    "    else:\n",
    "        if sys.platform == \"win32\": n_workers = 0\n",
    "        passed = parallel(_notebook2html, files, n_workers=n_workers, cls=cls,\n",
    "                          template_file=template_file, exporter=exporter, dest=dest, pause=pause, execute=execute)\n",
    "        if not all(passed):\n",
    "            msg = \"Conversion failed on the following:\\n\"\n",
    "            print(msg + '\\n'.join([f.name for p,f in zip(passed,files) if not p]))"
   ]
  },
  {
   "cell_type": "code",
   "execution_count": null,
   "metadata": {},
   "outputs": [],
   "source": [
    "#export\n",
    "@call_parse\n",
    "def nbdev_build_docs(fname:Param(\"A notebook name or glob to convert\", str)=None,\n",
    "                     force_all:Param(\"Rebuild even notebooks that haven't changed\", bool_arg)=False,\n",
    "                     mk_readme:Param(\"Also convert the index notebook to README\", bool_arg)=True,\n",
    "                     n_workers:Param(\"Number of workers to use\", int)=None,\n",
    "                     pause:Param(\"Pause time (in secs) between notebooks to avoid race conditions\", float)=0.5):\n",
    "    \"Build the documentation by converting notebooks matching `fname` to html\"\n",
    "    notebook2html(fname=fname, force_all=force_all, n_workers=n_workers, pause=pause)\n",
    "    if fname is None: make_sidebar()\n",
    "    if mk_readme: make_readme()"
   ]
  }
 ],
 "metadata": {
  "kernelspec": {
   "display_name": "Python 3",
   "language": "python",
   "name": "python3"
  }
 },
 "nbformat": 4,
 "nbformat_minor": 2
}
